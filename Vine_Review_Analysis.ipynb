{
  "nbformat": 4,
  "nbformat_minor": 0,
  "metadata": {
    "colab": {
      "provenance": []
    },
    "kernelspec": {
      "name": "python3",
      "display_name": "Python 3"
    },
    "nteract": {
      "version": "0.12.3"
    },
    "language_info": {
      "name": "python"
    }
  },
  "cells": [
    {
      "cell_type": "code",
      "metadata": {
        "id": "V58rxea0HqSa",
        "colab": {
          "base_uri": "https://localhost:8080/"
        },
        "outputId": "d04b3956-ef64-4d45-d094-6f99219017b5"
      },
      "source": [
        "import os\n",
        "# Find the latest version of spark 3.0 from http://www.apache.org/dist/spark/ and enter as the spark version\n",
        "# For example:\n",
        "# spark_version = 'spark-3.0.3'\n",
        "spark_version = 'spark-3.1.3'\n",
        "os.environ['SPARK_VERSION']=spark_version\n",
        "\n",
        "# Install Spark and Java\n",
        "!apt-get update\n",
        "!apt-get install openjdk-11-jdk-headless -qq > /dev/null\n",
        "!wget -q http://www.apache.org/dist/spark/$SPARK_VERSION/$SPARK_VERSION-bin-hadoop2.7.tgz\n",
        "!tar xf $SPARK_VERSION-bin-hadoop2.7.tgz\n",
        "!pip install -q findspark\n",
        "\n",
        "# Set Environment Variables\n",
        "import os\n",
        "os.environ[\"JAVA_HOME\"] = \"/usr/lib/jvm/java-11-openjdk-amd64\"\n",
        "os.environ[\"SPARK_HOME\"] = f\"/content/{spark_version}-bin-hadoop2.7\"\n",
        "\n",
        "# Start a SparkSession\n",
        "import findspark\n",
        "findspark.init()"
      ],
      "execution_count": 1,
      "outputs": [
        {
          "output_type": "stream",
          "name": "stdout",
          "text": [
            "Hit:1 http://archive.ubuntu.com/ubuntu bionic InRelease\n",
            "Get:2 http://archive.ubuntu.com/ubuntu bionic-updates InRelease [88.7 kB]\n",
            "Get:3 http://security.ubuntu.com/ubuntu bionic-security InRelease [88.7 kB]\n",
            "Get:4 https://cloud.r-project.org/bin/linux/ubuntu bionic-cran40/ InRelease [3,626 B]\n",
            "Ign:5 https://developer.download.nvidia.com/compute/machine-learning/repos/ubuntu1804/x86_64  InRelease\n",
            "Get:6 https://developer.download.nvidia.com/compute/cuda/repos/ubuntu1804/x86_64  InRelease [1,581 B]\n",
            "Hit:7 https://developer.download.nvidia.com/compute/machine-learning/repos/ubuntu1804/x86_64  Release\n",
            "Get:8 http://archive.ubuntu.com/ubuntu bionic-backports InRelease [83.3 kB]\n",
            "Hit:9 http://ppa.launchpad.net/c2d4u.team/c2d4u4.0+/ubuntu bionic InRelease\n",
            "Hit:10 http://ppa.launchpad.net/cran/libgit2/ubuntu bionic InRelease\n",
            "Hit:11 http://ppa.launchpad.net/deadsnakes/ppa/ubuntu bionic InRelease\n",
            "Hit:12 http://ppa.launchpad.net/graphics-drivers/ppa/ubuntu bionic InRelease\n",
            "Get:13 https://developer.download.nvidia.com/compute/cuda/repos/ubuntu1804/x86_64  Packages [1,038 kB]\n",
            "Get:15 http://archive.ubuntu.com/ubuntu bionic-updates/universe amd64 Packages [2,338 kB]\n",
            "Get:16 http://archive.ubuntu.com/ubuntu bionic-updates/main amd64 Packages [3,496 kB]\n",
            "Get:17 http://archive.ubuntu.com/ubuntu bionic-updates/restricted amd64 Packages [1,303 kB]\n",
            "Get:18 http://security.ubuntu.com/ubuntu bionic-security/universe amd64 Packages [1,563 kB]\n",
            "Get:19 http://security.ubuntu.com/ubuntu bionic-security/main amd64 Packages [3,068 kB]\n",
            "Fetched 13.1 MB in 5s (2,450 kB/s)\n",
            "Reading package lists... Done\n"
          ]
        }
      ]
    },
    {
      "cell_type": "code",
      "metadata": {
        "id": "_xKwTpATHqSe",
        "colab": {
          "base_uri": "https://localhost:8080/"
        },
        "outputId": "ec33ff12-c99b-4ac2-f8c9-3c5e1d4865e0"
      },
      "source": [
        "# Download the Postgres driver that will allow Spark to interact with Postgres.\n",
        "!wget https://jdbc.postgresql.org/download/postgresql-42.2.16.jar"
      ],
      "execution_count": 2,
      "outputs": [
        {
          "output_type": "stream",
          "name": "stdout",
          "text": [
            "--2022-11-26 19:12:43--  https://jdbc.postgresql.org/download/postgresql-42.2.16.jar\n",
            "Resolving jdbc.postgresql.org (jdbc.postgresql.org)... 72.32.157.228, 2001:4800:3e1:1::228\n",
            "Connecting to jdbc.postgresql.org (jdbc.postgresql.org)|72.32.157.228|:443... connected.\n",
            "HTTP request sent, awaiting response... 200 OK\n",
            "Length: 1002883 (979K) [application/java-archive]\n",
            "Saving to: ‘postgresql-42.2.16.jar’\n",
            "\n",
            "postgresql-42.2.16. 100%[===================>] 979.38K  --.-KB/s    in 0.09s   \n",
            "\n",
            "2022-11-26 19:12:43 (10.1 MB/s) - ‘postgresql-42.2.16.jar’ saved [1002883/1002883]\n",
            "\n"
          ]
        }
      ]
    },
    {
      "cell_type": "code",
      "metadata": {
        "id": "MMqDAjVS0KN9"
      },
      "source": [
        "from pyspark.sql import SparkSession\n",
        "spark = SparkSession.builder.appName(\"M16-Amazon-Challenge\").config(\"spark.driver.extraClassPath\",\"/content/postgresql-42.2.16.jar\").getOrCreate()"
      ],
      "execution_count": 3,
      "outputs": []
    },
    {
      "cell_type": "code",
      "metadata": {
        "id": "CtCmBhQJY-9Z",
        "colab": {
          "base_uri": "https://localhost:8080/"
        },
        "outputId": "1fc8e01c-9237-44b1-dd7a-7cf882e188fe"
      },
      "source": [
        "# Load Amazon Review data into spark dataframe\n",
        "from pyspark import SparkFiles\n",
        "url = \"https://s3.amazonaws.com/amazon-reviews-pds/tsv/amazon_reviews_us_Lawn_and_Garden_v1_00.tsv.gz\"\n",
        "spark.sparkContext.addFile(url)\n",
        "df = spark.read.option(\"encoding\", \"UTF-8\").csv(SparkFiles.get(\"\"), sep=\"\\t\", header=True, inferSchema=True)\n",
        "df.show()"
      ],
      "execution_count": 4,
      "outputs": [
        {
          "output_type": "stream",
          "name": "stdout",
          "text": [
            "+-----------+-----------+--------------+----------+--------------+--------------------+----------------+-----------+-------------+-----------+----+-----------------+--------------------+--------------------+-----------+\n",
            "|marketplace|customer_id|     review_id|product_id|product_parent|       product_title|product_category|star_rating|helpful_votes|total_votes|vine|verified_purchase|     review_headline|         review_body|review_date|\n",
            "+-----------+-----------+--------------+----------+--------------+--------------------+----------------+-----------+-------------+-----------+----+-----------------+--------------------+--------------------+-----------+\n",
            "|         US|   32787517| RED72VWWCOS7S|B008HDQYLQ|     348668413|Garden Weasel Gar...| Lawn and Garden|          1|            2|          8|   N|                Y|            One Star|I don't hate the ...| 2015-08-31|\n",
            "|         US|   16374060| RZHWQ208LTEPV|B005OBZBD6|     264704759|10 Foot Mc4 Solar...| Lawn and Garden|          5|            0|          0|   N|                Y|          Five Stars|        worked great| 2015-08-31|\n",
            "|         US|    9984817|R37LBC3XAVLYOO|B00RQL8U2G|      95173602|GE String A Long ...| Lawn and Garden|          5|            4|          5|   N|                Y|just what i neede...|just what i neede...| 2015-08-31|\n",
            "|         US|   12635190|R3L7XJMA0MVJWC|B0081SBO4Y|     835659279|Key Pair Lawn Wit...| Lawn and Garden|          5|            0|          0|   N|                Y|                Keys|Needed replacemen...| 2015-08-31|\n",
            "|         US|   43905102|R2I2GHSI7T1UBN|B008E6OK3U|     539243347|Zodiac R0502300 L...| Lawn and Garden|          1|            5|          6|   N|                Y|       Too expensive|Assuming you don'...| 2015-08-31|\n",
            "|         US|   52596997|R2GFFKHK4I6VMX|B00W6NTULY|     337446474|Hirts Gardens Swe...| Lawn and Garden|          5|            0|          0|   N|                Y|                Nice|Beautifully packa...| 2015-08-31|\n",
            "|         US|   43871104|R1R0UDX2XAN1S4|B00GXUMYKA|     468857193|AGPtEK 12 PCS Smo...| Lawn and Garden|          4|            0|          0|   N|                Y|These were pretty...|These were pretty...| 2015-08-31|\n",
            "|         US|   11346008|R22C8FMBSTFRY8|B005EIX8JS|     125753094|Design Toscano Ea...| Lawn and Garden|          5|            2|          2|   N|                Y|Kids love it. WIs...|Its in the center...| 2015-08-31|\n",
            "|         US|   49206471|R118NNIQ75XPGO|B000HJBKMQ|     834273114|TERRO T300 Liquid...| Lawn and Garden|          3|            0|          0|   N|                Y|      A little messy|The ants were att...| 2015-08-31|\n",
            "|         US|   37596267|R30HYXHZQ49621|B004LY59V6|     612086079|BLACK+DECKER LBXR...| Lawn and Garden|          2|            0|          0|   N|                Y|Does not hold a c...|This is advertise...| 2015-08-31|\n",
            "|         US|   31554283|R3EMLKY0GF1E90|B00CAVM85M|     280334010|Reach 'n Spray Pe...| Lawn and Garden|          5|            0|          0|   N|                Y|          Five Stars|Well made product...| 2015-08-31|\n",
            "|         US|   43211735|R23BX7EGJMGQJR|B00DP6X1LG|     233116679|Puro-Kleen Ultra-...| Lawn and Garden|          5|            1|          2|   N|                Y|It's easy to cut ...|I used this for a...| 2015-08-31|\n",
            "|         US|   25705116|R2Z4B6SDEAZF6E|B00025H2PY|     592807498|Diatomaceous Eart...| Lawn and Garden|          5|            0|          0|   N|                Y|          Five Stars|Great stuff. Gets...| 2015-08-31|\n",
            "|         US|   47041108|R35289PGJERP5J|B0079GHJXY|     408290044|Perky-Pet 312C Pa...| Lawn and Garden|          5|            0|          0|   N|                Y|          Five Stars|   Very good quality| 2015-08-31|\n",
            "|         US|    1534667|R39BPRMDKKIZL2|B004HFJ762|     404737140|Crossbow Dow Spec...| Lawn and Garden|          1|            4|          6|   N|                Y|Wrong Product- No...|This product was ...| 2015-08-31|\n",
            "|         US|   52287759| R6WFPPBS1DZMG|B00004RAGL|     773636542|Apex REM 15 15-Fo...| Lawn and Garden|          5|            0|          0|   N|                Y|dehumidifier drai...|the hose worked w...| 2015-08-31|\n",
            "|         US|   37010286| RK72M0ZBV9YLS|B010PWBNNK|     461072629|Elucto Electric B...| Lawn and Garden|          1|            3|          3|   N|                Y|   not easy it seems|I haven't killed ...| 2015-08-31|\n",
            "|         US|   30576559| RX5G150AUWRDJ|B00T77AWY6|     365662076|Ohuhu® 100 Ft Exp...| Lawn and Garden|          1|            0|          0|   N|                Y|          Five Stars|I m very disappoi...| 2015-08-31|\n",
            "|         US|   10291713|R1TMSZWIT21A31|B000UJH6HQ|     228393894|Toro 53746 Drip B...| Lawn and Garden|          3|            1|          2|   N|                Y|     Could be better|this is the fourt...| 2015-08-31|\n",
            "|         US|   50656780|R2FURVPW763CIM|B000HJBKMQ|     834273114|TERRO T300 Liquid...| Lawn and Garden|          5|            0|          0|   N|                Y|Sugar Ants are ho...|Best thing you ca...| 2015-08-31|\n",
            "+-----------+-----------+--------------+----------+--------------+--------------------+----------------+-----------+-------------+-----------+----+-----------------+--------------------+--------------------+-----------+\n",
            "only showing top 20 rows\n",
            "\n"
          ]
        }
      ]
    },
    {
      "cell_type": "code",
      "metadata": {
        "id": "lzMmkdKmY--D"
      },
      "source": [
        "# Create the vine_table. DataFrame\n",
        "vine_df = df.select([\"review_id\", \"star_rating\", \"helpful_votes\", \"total_votes\", \"vine\", \"verified_purchase\"])"
      ],
      "execution_count": 5,
      "outputs": []
    },
    {
      "cell_type": "code",
      "source": [
        "vine_df.show()"
      ],
      "metadata": {
        "colab": {
          "base_uri": "https://localhost:8080/"
        },
        "id": "q6DvwlWkhRiX",
        "outputId": "619d41cb-b157-42de-ecfa-9f5f92d8c28a"
      },
      "execution_count": 6,
      "outputs": [
        {
          "output_type": "stream",
          "name": "stdout",
          "text": [
            "+--------------+-----------+-------------+-----------+----+-----------------+\n",
            "|     review_id|star_rating|helpful_votes|total_votes|vine|verified_purchase|\n",
            "+--------------+-----------+-------------+-----------+----+-----------------+\n",
            "| RED72VWWCOS7S|          1|            2|          8|   N|                Y|\n",
            "| RZHWQ208LTEPV|          5|            0|          0|   N|                Y|\n",
            "|R37LBC3XAVLYOO|          5|            4|          5|   N|                Y|\n",
            "|R3L7XJMA0MVJWC|          5|            0|          0|   N|                Y|\n",
            "|R2I2GHSI7T1UBN|          1|            5|          6|   N|                Y|\n",
            "|R2GFFKHK4I6VMX|          5|            0|          0|   N|                Y|\n",
            "|R1R0UDX2XAN1S4|          4|            0|          0|   N|                Y|\n",
            "|R22C8FMBSTFRY8|          5|            2|          2|   N|                Y|\n",
            "|R118NNIQ75XPGO|          3|            0|          0|   N|                Y|\n",
            "|R30HYXHZQ49621|          2|            0|          0|   N|                Y|\n",
            "|R3EMLKY0GF1E90|          5|            0|          0|   N|                Y|\n",
            "|R23BX7EGJMGQJR|          5|            1|          2|   N|                Y|\n",
            "|R2Z4B6SDEAZF6E|          5|            0|          0|   N|                Y|\n",
            "|R35289PGJERP5J|          5|            0|          0|   N|                Y|\n",
            "|R39BPRMDKKIZL2|          1|            4|          6|   N|                Y|\n",
            "| R6WFPPBS1DZMG|          5|            0|          0|   N|                Y|\n",
            "| RK72M0ZBV9YLS|          1|            3|          3|   N|                Y|\n",
            "| RX5G150AUWRDJ|          1|            0|          0|   N|                Y|\n",
            "|R1TMSZWIT21A31|          3|            1|          2|   N|                Y|\n",
            "|R2FURVPW763CIM|          5|            0|          0|   N|                Y|\n",
            "+--------------+-----------+-------------+-----------+----+-----------------+\n",
            "only showing top 20 rows\n",
            "\n"
          ]
        }
      ]
    },
    {
      "cell_type": "code",
      "metadata": {
        "id": "Exuo6ebUsCqW"
      },
      "source": [
        "# Filter vine table to reviews with greater than 20 total votes\n",
        "vine_filtered = vine_df.filter(vine_df[\"total_votes\"] > 20)"
      ],
      "execution_count": 7,
      "outputs": []
    },
    {
      "cell_type": "code",
      "source": [
        "vine_filtered.show()"
      ],
      "metadata": {
        "colab": {
          "base_uri": "https://localhost:8080/"
        },
        "id": "ZSJw6lbhX-B6",
        "outputId": "37b3391f-830a-4b40-b51f-421c36213954"
      },
      "execution_count": 8,
      "outputs": [
        {
          "output_type": "stream",
          "name": "stdout",
          "text": [
            "+--------------+-----------+-------------+-----------+----+-----------------+\n",
            "|     review_id|star_rating|helpful_votes|total_votes|vine|verified_purchase|\n",
            "+--------------+-----------+-------------+-----------+----+-----------------+\n",
            "| RQQ3KVTU5TJ4I|          5|           24|         29|   N|                Y|\n",
            "|R3FELXWV9T5CWE|          2|           22|         24|   N|                Y|\n",
            "| ROBYK6EZYK398|          5|           29|         30|   N|                Y|\n",
            "|R2RKCSAG6GBA4A|          1|            8|         28|   N|                Y|\n",
            "|R2YVBBR6NXIA4V|          5|           25|         28|   N|                N|\n",
            "|R2AVTBDIVG2AW4|          5|           26|         26|   N|                N|\n",
            "|R1Z2LNN3FANMTO|          1|           20|         24|   N|                N|\n",
            "|  RLNULBKRWNNR|          5|           42|         43|   N|                Y|\n",
            "| R9QNQUL94RX1F|          3|           27|         33|   N|                Y|\n",
            "| RTULFZTUS1VBP|          5|           51|         52|   N|                Y|\n",
            "|R1BM9RBQWI62O2|          5|           43|         60|   N|                N|\n",
            "| RWB6V9IYCOJFX|          4|           39|         41|   N|                Y|\n",
            "|R15FA7GCXKC7YE|          1|           40|         41|   N|                Y|\n",
            "|R2OQAI6AV8AH8Z|          1|           19|         32|   N|                Y|\n",
            "|R2XD5CWZ4Z87ZR|          5|           19|         25|   N|                Y|\n",
            "|R3LLBXVCEY5JKB|          1|           33|         35|   N|                Y|\n",
            "| RQWM8U7YH93TT|          4|           92|         93|   N|                N|\n",
            "|R2DEO6P7BEZ9UI|          5|           38|         38|   N|                Y|\n",
            "|R2CKYIHUSK3IEP|          1|           74|         88|   N|                Y|\n",
            "| RY0DMUQKNF8MT|          5|           32|         33|   N|                Y|\n",
            "+--------------+-----------+-------------+-----------+----+-----------------+\n",
            "only showing top 20 rows\n",
            "\n"
          ]
        }
      ]
    },
    {
      "cell_type": "code",
      "source": [
        "vine_filtered = vine_filtered.withColumn(\"help_rate\", (vine_filtered['helpful_votes'] / vine_filtered['total_votes']))\n",
        "vine_filtered.show()"
      ],
      "metadata": {
        "colab": {
          "base_uri": "https://localhost:8080/"
        },
        "id": "zmjyFrjBqPU_",
        "outputId": "59729c3b-7b2d-4d9b-d76d-745512eab4be"
      },
      "execution_count": 9,
      "outputs": [
        {
          "output_type": "stream",
          "name": "stdout",
          "text": [
            "+--------------+-----------+-------------+-----------+----+-----------------+------------------+\n",
            "|     review_id|star_rating|helpful_votes|total_votes|vine|verified_purchase|         help_rate|\n",
            "+--------------+-----------+-------------+-----------+----+-----------------+------------------+\n",
            "| RQQ3KVTU5TJ4I|          5|           24|         29|   N|                Y|0.8275862068965517|\n",
            "|R3FELXWV9T5CWE|          2|           22|         24|   N|                Y|0.9166666666666666|\n",
            "| ROBYK6EZYK398|          5|           29|         30|   N|                Y|0.9666666666666667|\n",
            "|R2RKCSAG6GBA4A|          1|            8|         28|   N|                Y|0.2857142857142857|\n",
            "|R2YVBBR6NXIA4V|          5|           25|         28|   N|                N|0.8928571428571429|\n",
            "|R2AVTBDIVG2AW4|          5|           26|         26|   N|                N|               1.0|\n",
            "|R1Z2LNN3FANMTO|          1|           20|         24|   N|                N|0.8333333333333334|\n",
            "|  RLNULBKRWNNR|          5|           42|         43|   N|                Y|0.9767441860465116|\n",
            "| R9QNQUL94RX1F|          3|           27|         33|   N|                Y|0.8181818181818182|\n",
            "| RTULFZTUS1VBP|          5|           51|         52|   N|                Y|0.9807692307692307|\n",
            "|R1BM9RBQWI62O2|          5|           43|         60|   N|                N|0.7166666666666667|\n",
            "| RWB6V9IYCOJFX|          4|           39|         41|   N|                Y|0.9512195121951219|\n",
            "|R15FA7GCXKC7YE|          1|           40|         41|   N|                Y| 0.975609756097561|\n",
            "|R2OQAI6AV8AH8Z|          1|           19|         32|   N|                Y|           0.59375|\n",
            "|R2XD5CWZ4Z87ZR|          5|           19|         25|   N|                Y|              0.76|\n",
            "|R3LLBXVCEY5JKB|          1|           33|         35|   N|                Y|0.9428571428571428|\n",
            "| RQWM8U7YH93TT|          4|           92|         93|   N|                N| 0.989247311827957|\n",
            "|R2DEO6P7BEZ9UI|          5|           38|         38|   N|                Y|               1.0|\n",
            "|R2CKYIHUSK3IEP|          1|           74|         88|   N|                Y|0.8409090909090909|\n",
            "| RY0DMUQKNF8MT|          5|           32|         33|   N|                Y|0.9696969696969697|\n",
            "+--------------+-----------+-------------+-----------+----+-----------------+------------------+\n",
            "only showing top 20 rows\n",
            "\n"
          ]
        }
      ]
    },
    {
      "cell_type": "code",
      "source": [
        "vine_filtered.count()"
      ],
      "metadata": {
        "colab": {
          "base_uri": "https://localhost:8080/"
        },
        "id": "SjKy4rdfrKWs",
        "outputId": "e058ead2-fdf6-447e-ac17-63fd2b60590c"
      },
      "execution_count": 10,
      "outputs": [
        {
          "output_type": "execute_result",
          "data": {
            "text/plain": [
              "49209"
            ]
          },
          "metadata": {},
          "execution_count": 10
        }
      ]
    },
    {
      "cell_type": "code",
      "source": [
        "vine_helpful = vine_filtered.filter(vine_filtered['help_rate']>0.5)\n",
        "vine_helpful.show()"
      ],
      "metadata": {
        "colab": {
          "base_uri": "https://localhost:8080/"
        },
        "id": "quxnVRs6rU9J",
        "outputId": "d0661776-4d19-4904-d810-496060852a54"
      },
      "execution_count": 11,
      "outputs": [
        {
          "output_type": "stream",
          "name": "stdout",
          "text": [
            "+--------------+-----------+-------------+-----------+----+-----------------+------------------+\n",
            "|     review_id|star_rating|helpful_votes|total_votes|vine|verified_purchase|         help_rate|\n",
            "+--------------+-----------+-------------+-----------+----+-----------------+------------------+\n",
            "| RQQ3KVTU5TJ4I|          5|           24|         29|   N|                Y|0.8275862068965517|\n",
            "|R3FELXWV9T5CWE|          2|           22|         24|   N|                Y|0.9166666666666666|\n",
            "| ROBYK6EZYK398|          5|           29|         30|   N|                Y|0.9666666666666667|\n",
            "|R2YVBBR6NXIA4V|          5|           25|         28|   N|                N|0.8928571428571429|\n",
            "|R2AVTBDIVG2AW4|          5|           26|         26|   N|                N|               1.0|\n",
            "|R1Z2LNN3FANMTO|          1|           20|         24|   N|                N|0.8333333333333334|\n",
            "|  RLNULBKRWNNR|          5|           42|         43|   N|                Y|0.9767441860465116|\n",
            "| R9QNQUL94RX1F|          3|           27|         33|   N|                Y|0.8181818181818182|\n",
            "| RTULFZTUS1VBP|          5|           51|         52|   N|                Y|0.9807692307692307|\n",
            "|R1BM9RBQWI62O2|          5|           43|         60|   N|                N|0.7166666666666667|\n",
            "| RWB6V9IYCOJFX|          4|           39|         41|   N|                Y|0.9512195121951219|\n",
            "|R15FA7GCXKC7YE|          1|           40|         41|   N|                Y| 0.975609756097561|\n",
            "|R2OQAI6AV8AH8Z|          1|           19|         32|   N|                Y|           0.59375|\n",
            "|R2XD5CWZ4Z87ZR|          5|           19|         25|   N|                Y|              0.76|\n",
            "|R3LLBXVCEY5JKB|          1|           33|         35|   N|                Y|0.9428571428571428|\n",
            "| RQWM8U7YH93TT|          4|           92|         93|   N|                N| 0.989247311827957|\n",
            "|R2DEO6P7BEZ9UI|          5|           38|         38|   N|                Y|               1.0|\n",
            "|R2CKYIHUSK3IEP|          1|           74|         88|   N|                Y|0.8409090909090909|\n",
            "| RY0DMUQKNF8MT|          5|           32|         33|   N|                Y|0.9696969696969697|\n",
            "|R33XCAJDTPOUQS|          5|           22|         23|   N|                Y|0.9565217391304348|\n",
            "+--------------+-----------+-------------+-----------+----+-----------------+------------------+\n",
            "only showing top 20 rows\n",
            "\n"
          ]
        }
      ]
    },
    {
      "cell_type": "code",
      "source": [
        "vine_helpful.count()"
      ],
      "metadata": {
        "colab": {
          "base_uri": "https://localhost:8080/"
        },
        "id": "DuNlmDMhrr3h",
        "outputId": "668a4a1d-3777-4571-a574-6a0e1aa17b6f"
      },
      "execution_count": 12,
      "outputs": [
        {
          "output_type": "execute_result",
          "data": {
            "text/plain": [
              "46014"
            ]
          },
          "metadata": {},
          "execution_count": 12
        }
      ]
    },
    {
      "cell_type": "code",
      "source": [
        "paid_reviews = vine_helpful.filter(vine_helpful['vine']==\"Y\")\n",
        "paid_reviews.show()"
      ],
      "metadata": {
        "colab": {
          "base_uri": "https://localhost:8080/"
        },
        "id": "BOxwPrl0r5O8",
        "outputId": "4a3dafaf-599c-4e45-c922-1f69aa978670"
      },
      "execution_count": 13,
      "outputs": [
        {
          "output_type": "stream",
          "name": "stdout",
          "text": [
            "+--------------+-----------+-------------+-----------+----+-----------------+------------------+\n",
            "|     review_id|star_rating|helpful_votes|total_votes|vine|verified_purchase|         help_rate|\n",
            "+--------------+-----------+-------------+-----------+----+-----------------+------------------+\n",
            "|R28DXTC3JQ9IY1|          4|           24|         26|   Y|                N|0.9230769230769231|\n",
            "|R3AFZKLQXATHBU|          5|           44|         49|   Y|                N|0.8979591836734694|\n",
            "|R2RUUF2JPJPC0E|          4|           20|         22|   Y|                N|0.9090909090909091|\n",
            "| RFZ2WUH4248AB|          2|           26|         27|   Y|                N|0.9629629629629629|\n",
            "|R1Q4LVHIFOWYFR|          5|           23|         28|   Y|                N|0.8214285714285714|\n",
            "|R2Z7C8YCRSC9DP|          5|           22|         22|   Y|                N|               1.0|\n",
            "|R3J8OI5CB74P5K|          1|           22|         25|   Y|                N|              0.88|\n",
            "| RH39LMKN6AZDC|          5|           33|         40|   Y|                N|             0.825|\n",
            "| R8RD8K0ESJSRD|          5|           21|         21|   Y|                N|               1.0|\n",
            "| R6P04SW0Z1FCR|          5|           20|         25|   Y|                N|               0.8|\n",
            "|R32LMNP5ZU2F6G|          3|           33|         37|   Y|                N|0.8918918918918919|\n",
            "|R21L9F1CIGVQ7H|          5|           35|         45|   Y|                N|0.7777777777777778|\n",
            "|R3407EU7EKOUMA|          4|           31|         40|   Y|                N|             0.775|\n",
            "| RDFMCB5Q7U0UW|          4|          152|        155|   Y|                N|0.9806451612903225|\n",
            "|R2U38GEWPJG6JI|          5|           63|         66|   Y|                N|0.9545454545454546|\n",
            "|R1E24YIQRGSP10|          5|           30|         40|   Y|                N|              0.75|\n",
            "| R91BX5ZLRONPJ|          4|           16|         21|   Y|                N|0.7619047619047619|\n",
            "|R1P31XRPGIF50W|          4|           33|         38|   Y|                N| 0.868421052631579|\n",
            "| RTKSQRXMMJHGZ|          4|           20|         24|   Y|                N|0.8333333333333334|\n",
            "|R14QEJX56WXUOM|          4|          351|        369|   Y|                N|0.9512195121951219|\n",
            "+--------------+-----------+-------------+-----------+----+-----------------+------------------+\n",
            "only showing top 20 rows\n",
            "\n"
          ]
        }
      ]
    },
    {
      "cell_type": "code",
      "source": [
        "paid_reviews.count()"
      ],
      "metadata": {
        "colab": {
          "base_uri": "https://localhost:8080/"
        },
        "id": "JWrQrw11sHNQ",
        "outputId": "1f0e7197-f5b4-4d60-f8c2-5346cb85ed31"
      },
      "execution_count": 14,
      "outputs": [
        {
          "output_type": "execute_result",
          "data": {
            "text/plain": [
              "373"
            ]
          },
          "metadata": {},
          "execution_count": 14
        }
      ]
    },
    {
      "cell_type": "code",
      "source": [
        "unpaid_reviews = vine_helpful.filter(vine_helpful['vine']==\"N\")\n",
        "unpaid_reviews.show()\n",
        "unpaid_reviews.count()"
      ],
      "metadata": {
        "colab": {
          "base_uri": "https://localhost:8080/"
        },
        "id": "W7iAnIq2s_ev",
        "outputId": "d6307bee-4bef-4fae-a7f7-f1bfa57a6aca"
      },
      "execution_count": 15,
      "outputs": [
        {
          "output_type": "stream",
          "name": "stdout",
          "text": [
            "+--------------+-----------+-------------+-----------+----+-----------------+------------------+\n",
            "|     review_id|star_rating|helpful_votes|total_votes|vine|verified_purchase|         help_rate|\n",
            "+--------------+-----------+-------------+-----------+----+-----------------+------------------+\n",
            "| RQQ3KVTU5TJ4I|          5|           24|         29|   N|                Y|0.8275862068965517|\n",
            "|R3FELXWV9T5CWE|          2|           22|         24|   N|                Y|0.9166666666666666|\n",
            "| ROBYK6EZYK398|          5|           29|         30|   N|                Y|0.9666666666666667|\n",
            "|R2YVBBR6NXIA4V|          5|           25|         28|   N|                N|0.8928571428571429|\n",
            "|R2AVTBDIVG2AW4|          5|           26|         26|   N|                N|               1.0|\n",
            "|R1Z2LNN3FANMTO|          1|           20|         24|   N|                N|0.8333333333333334|\n",
            "|  RLNULBKRWNNR|          5|           42|         43|   N|                Y|0.9767441860465116|\n",
            "| R9QNQUL94RX1F|          3|           27|         33|   N|                Y|0.8181818181818182|\n",
            "| RTULFZTUS1VBP|          5|           51|         52|   N|                Y|0.9807692307692307|\n",
            "|R1BM9RBQWI62O2|          5|           43|         60|   N|                N|0.7166666666666667|\n",
            "| RWB6V9IYCOJFX|          4|           39|         41|   N|                Y|0.9512195121951219|\n",
            "|R15FA7GCXKC7YE|          1|           40|         41|   N|                Y| 0.975609756097561|\n",
            "|R2OQAI6AV8AH8Z|          1|           19|         32|   N|                Y|           0.59375|\n",
            "|R2XD5CWZ4Z87ZR|          5|           19|         25|   N|                Y|              0.76|\n",
            "|R3LLBXVCEY5JKB|          1|           33|         35|   N|                Y|0.9428571428571428|\n",
            "| RQWM8U7YH93TT|          4|           92|         93|   N|                N| 0.989247311827957|\n",
            "|R2DEO6P7BEZ9UI|          5|           38|         38|   N|                Y|               1.0|\n",
            "|R2CKYIHUSK3IEP|          1|           74|         88|   N|                Y|0.8409090909090909|\n",
            "| RY0DMUQKNF8MT|          5|           32|         33|   N|                Y|0.9696969696969697|\n",
            "|R33XCAJDTPOUQS|          5|           22|         23|   N|                Y|0.9565217391304348|\n",
            "+--------------+-----------+-------------+-----------+----+-----------------+------------------+\n",
            "only showing top 20 rows\n",
            "\n"
          ]
        },
        {
          "output_type": "execute_result",
          "data": {
            "text/plain": [
              "45641"
            ]
          },
          "metadata": {},
          "execution_count": 15
        }
      ]
    },
    {
      "cell_type": "code",
      "source": [
        "import pyspark.sql.functions as F\n",
        "\n",
        "paid_stars = paid_reviews.groupBy(\"star_rating\").agg(\n",
        "    (F.count(\"review_id\")).alias(\"count\"),\n",
        "    (F.count(\"review_id\") / paid_reviews.count()).alias('percentage')\n",
        ").orderBy(\"star_rating\").show()"
      ],
      "metadata": {
        "colab": {
          "base_uri": "https://localhost:8080/"
        },
        "id": "c3DiUTgztQzJ",
        "outputId": "4e08b25b-98f6-4fe4-eee1-6f0f09d03ea7"
      },
      "execution_count": 21,
      "outputs": [
        {
          "output_type": "stream",
          "name": "stdout",
          "text": [
            "+-----------+-----+--------------------+\n",
            "|star_rating|count|          percentage|\n",
            "+-----------+-----+--------------------+\n",
            "|          1|    8|0.021447721179624665|\n",
            "|          2|   11|0.029490616621983913|\n",
            "|          3|   59|  0.1581769436997319|\n",
            "|          4|  124|  0.3324396782841823|\n",
            "|          5|  171|  0.4584450402144772|\n",
            "+-----------+-----+--------------------+\n",
            "\n"
          ]
        }
      ]
    },
    {
      "cell_type": "code",
      "source": [
        "unpaid_stars = unpaid_reviews.groupBy(\"star_rating\").agg(\n",
        "    (F.count(\"review_id\")).alias(\"count\"),\n",
        "    (F.count(\"review_id\") / unpaid_reviews.count()).alias('percentage')\n",
        ").orderBy(\"star_rating\").show()"
      ],
      "metadata": {
        "colab": {
          "base_uri": "https://localhost:8080/"
        },
        "id": "plyA_wOSzi22",
        "outputId": "32ed1ec6-018f-41dd-d9b9-b9bee599dc6d"
      },
      "execution_count": 22,
      "outputs": [
        {
          "output_type": "stream",
          "name": "stdout",
          "text": [
            "+-----------+-----+--------------------+\n",
            "|star_rating|count|          percentage|\n",
            "+-----------+-----+--------------------+\n",
            "|          1| 9507| 0.20829955522446922|\n",
            "|          2| 2795|0.061238798448763176|\n",
            "|          3| 3882| 0.08505510396354156|\n",
            "|          4| 6919| 0.15159615258210818|\n",
            "|          5|22538| 0.49381038978111785|\n",
            "+-----------+-----+--------------------+\n",
            "\n"
          ]
        }
      ]
    }
  ]
}